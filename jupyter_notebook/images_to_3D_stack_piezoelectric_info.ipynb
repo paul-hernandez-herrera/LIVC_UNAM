{
 "cells": [
  {
   "cell_type": "code",
   "execution_count": null,
   "id": "f1b363aa",
   "metadata": {},
   "outputs": [],
   "source": [
    "import os\n",
    "if 'workbookDir' not in globals():\n",
    "    print('Updating working directory')\n",
    "    workbookDir = os.path.dirname(os.getcwd())\n",
    "    os.chdir(workbookDir)\n",
    "print(os.getcwd())\n",
    "\n",
    "from core_code import main\n",
    "\n",
    "%load_ext autoreload\n",
    "%autoreload 2"
   ]
  },
  {
   "cell_type": "code",
   "execution_count": null,
   "id": "6ca4a0af",
   "metadata": {},
   "outputs": [],
   "source": [
    "file_input_images = ''\n",
    "file_txt = ''\n",
    "folder_output = ''\n",
    "main.create_stack_time_series_from_piezoelectric_info(file_input_images,file_txt, folder_output)"
   ]
  },
  {
   "cell_type": "code",
   "execution_count": null,
   "id": "0b02285f",
   "metadata": {},
   "outputs": [],
   "source": []
  },
  {
   "cell_type": "code",
   "execution_count": null,
   "id": "cd2e23ab",
   "metadata": {},
   "outputs": [],
   "source": []
  },
  {
   "cell_type": "code",
   "execution_count": null,
   "id": "16bd62d2",
   "metadata": {},
   "outputs": [],
   "source": []
  }
 ],
 "metadata": {
  "kernelspec": {
   "display_name": "Python 3 (ipykernel)",
   "language": "python",
   "name": "python3"
  },
  "language_info": {
   "codemirror_mode": {
    "name": "ipython",
    "version": 3
   },
   "file_extension": ".py",
   "mimetype": "text/x-python",
   "name": "python",
   "nbconvert_exporter": "python",
   "pygments_lexer": "ipython3",
   "version": "3.9.13"
  }
 },
 "nbformat": 4,
 "nbformat_minor": 5
}
