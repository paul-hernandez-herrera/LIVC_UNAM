{
 "cells": [
  {
   "cell_type": "code",
   "execution_count": 1,
   "id": "f1b363aa",
   "metadata": {},
   "outputs": [
    {
     "name": "stdout",
     "output_type": "stream",
     "text": [
      "Updating working directory\n",
      "C:\\Users\\jalip\\Documentos\\github\\microscopy_images_to_3Dstack\n"
     ]
    }
   ],
   "source": [
    "import os\n",
    "if 'workbookDir' not in globals():\n",
    "    print('Updating working directory')\n",
    "    workbookDir = os.path.dirname(os.getcwd())\n",
    "    os.chdir(workbookDir)\n",
    "print(os.getcwd())\n",
    "\n",
    "from core_code import main\n",
    "\n",
    "%load_ext autoreload\n",
    "%autoreload 2"
   ]
  },
  {
   "cell_type": "code",
   "execution_count": 4,
   "id": "6ca4a0af",
   "metadata": {},
   "outputs": [],
   "source": [
    "file_input_images = r'C:\\Users\\jalip\\Documentos\\Proyectos\\Sperm\\Fluorescencia\\Test\\20220511 3D Pegadas 3000fps 80hz 20 micras - AEPR\\Exp7 Fluo8 10uM Int 200 Led 50'\n",
    "file_txt = r\"C:\\Users\\jalip\\Documentos\\Proyectos\\Sperm\\Fluorescencia\\Test\\20220511 3D Pegadas 3000fps 80hz 20 micras - AEPR\\Exp7_A3.txt\"\n",
    "folder_output = r'C:\\Users\\jalip\\Documentos\\Proyectos\\Sperm\\Fluorescencia\\Test\\20220511 3D Pegadas 3000fps 80hz 20 micras - AEPR\\Exp7_Stacks'\n",
    "main.create_stack_time_series_from_piezoelectric_info(file_input_images,file_txt, folder_output)"
   ]
  },
  {
   "cell_type": "code",
   "execution_count": null,
   "id": "0b02285f",
   "metadata": {},
   "outputs": [],
   "source": []
  },
  {
   "cell_type": "code",
   "execution_count": null,
   "id": "cd2e23ab",
   "metadata": {},
   "outputs": [],
   "source": []
  },
  {
   "cell_type": "code",
   "execution_count": null,
   "id": "16bd62d2",
   "metadata": {},
   "outputs": [],
   "source": []
  }
 ],
 "metadata": {
  "kernelspec": {
   "display_name": "Python 3 (ipykernel)",
   "language": "python",
   "name": "python3"
  },
  "language_info": {
   "codemirror_mode": {
    "name": "ipython",
    "version": 3
   },
   "file_extension": ".py",
   "mimetype": "text/x-python",
   "name": "python",
   "nbconvert_exporter": "python",
   "pygments_lexer": "ipython3",
   "version": "3.9.13"
  }
 },
 "nbformat": 4,
 "nbformat_minor": 5
}
