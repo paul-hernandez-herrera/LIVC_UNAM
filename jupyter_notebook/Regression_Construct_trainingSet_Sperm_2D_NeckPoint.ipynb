{
 "cells": [
  {
   "cell_type": "markdown",
   "id": "28d65c39",
   "metadata": {},
   "source": [
    "# About the notebook\n",
    "This notebook allows to create a training set of pairs of images corresponding to input image and ground truth (3d tubular mask). This code requires **A set of 3D images** and the traced center-line of the tubular structure in the SWC file format."
   ]
  },
  {
   "cell_type": "markdown",
   "id": "699b0b3a",
   "metadata": {},
   "source": [
    "# Loading dependencies\n",
    "Importing the required code and libraries to run this notebook"
   ]
  },
  {
   "cell_type": "code",
   "execution_count": null,
   "id": "0fda001b",
   "metadata": {},
   "outputs": [],
   "source": [
    "import os\n",
    "if 'workbookDir' not in globals():\n",
    "    print('Updating working directory')\n",
    "    workbookDir = os.path.dirname(os.getcwd())\n",
    "    os.chdir(workbookDir)\n",
    "print(os.getcwd())\n",
    "\n",
    "from core_code.construct_training_set_Sperm_2d_Regression import create_training_set\n",
    "from core_code.parameters_interface.parameters_widget import parameters_training_set_Regresion2D_Neck_point\n",
    "from pathlib import Path\n",
    "from datetime import datetime\n",
    "\n",
    "%load_ext autoreload\n",
    "%autoreload 2"
   ]
  },
  {
   "cell_type": "markdown",
   "id": "13f72793",
   "metadata": {},
   "source": [
    "# Setting parameters\n",
    "The following line of code allows you to set the parameters to generate the training set corresponding to a 2D regression problem to detect neck point for sperm images. A summary of each parameter is the following:\n",
    "\n",
    "## Required parameters\n",
    "**Folder images path**: the folder containing the input images \n",
    "\n",
    "\n",
    "## Optional parameters\n",
    "**Folder output**: the folder path to save the generated training set\n",
    "\n",
    "**Patch size**: size of each subvolume generate (patch size x patch size)\n",
    "\n",
    "**#sub-images random pos**: númber of patches to be generate for each image with random displacement in the interval [-32,32]. Aditional, one image is create with displacement [0,0]"
   ]
  },
  {
   "cell_type": "code",
   "execution_count": null,
   "id": "4ac6a7e5",
   "metadata": {
    "scrolled": true
   },
   "outputs": [],
   "source": [
    "parameters = parameters_training_set_Regresion2D_Neck_point()"
   ]
  },
  {
   "cell_type": "markdown",
   "id": "9a79f862",
   "metadata": {},
   "source": [
    "# Start generating the training set for the deep learning  algorithm\n",
    "Run the following line to generate the training set using the given parameters\n"
   ]
  },
  {
   "cell_type": "code",
   "execution_count": null,
   "id": "d07149ba",
   "metadata": {},
   "outputs": [],
   "source": [
    "csv_path = Path(parameters[\"csv_path\"].value)\n",
    "\n",
    "print(parameters[\"folder_output_default\"])\n",
    "print(parameters[\"folder_output_path\"].value)\n",
    "#Just in case, user does not want to use default value for output folder\n",
    "if parameters[\"folder_output_path\"].value == \"\":\n",
    "    folder_training_output = Path(csv_path.parent, \"training_set\" + datetime.today().strftime('_%Y_%m_%d'))\n",
    "    folder_training_output.mkdir(parents=True, exist_ok=True)\n",
    "else: \n",
    "    folder_training_output = parameters[\"folder_output_path\"].value\n",
    "\n",
    "create_training_set(csv_file_path = csv_path, \n",
    "                    folder_output = folder_training_output, \n",
    "                    img_size = parameters[\"patch_size_img\"].value, \n",
    "                    n = parameters[\"number_patches_random\"].value)\n"
   ]
  },
  {
   "cell_type": "code",
   "execution_count": null,
   "id": "a0974755",
   "metadata": {},
   "outputs": [],
   "source": []
  }
 ],
 "metadata": {
  "kernelspec": {
   "display_name": "Python 3 (ipykernel)",
   "language": "python",
   "name": "python3"
  },
  "language_info": {
   "codemirror_mode": {
    "name": "ipython",
    "version": 3
   },
   "file_extension": ".py",
   "mimetype": "text/x-python",
   "name": "python",
   "nbconvert_exporter": "python",
   "pygments_lexer": "ipython3",
   "version": "3.9.13"
  }
 },
 "nbformat": 4,
 "nbformat_minor": 5
}
